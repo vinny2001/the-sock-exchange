{
 "cells": [
  {
   "cell_type": "code",
   "execution_count": 1,
   "metadata": {},
   "outputs": [
    {
     "name": "stdout",
     "output_type": "stream",
     "text": [
      "Defaulting to user installation because normal site-packages is not writeable\n",
      "Collecting scikit-learn\n",
      "  Downloading scikit_learn-1.5.1-cp312-cp312-win_amd64.whl.metadata (12 kB)\n",
      "Requirement already satisfied: numpy>=1.19.5 in c:\\users\\wasadmin\\appdata\\roaming\\python\\python312\\site-packages (from scikit-learn) (1.26.4)\n",
      "Collecting scipy>=1.6.0 (from scikit-learn)\n",
      "  Downloading scipy-1.14.0-cp312-cp312-win_amd64.whl.metadata (60 kB)\n",
      "     ---------------------------------------- 0.0/60.8 kB ? eta -:--:--\n",
      "     ---------------------------------------- 0.0/60.8 kB ? eta -:--:--\n",
      "     ------ --------------------------------- 10.2/60.8 kB ? eta -:--:--\n",
      "     ------------------- ------------------ 30.7/60.8 kB 325.1 kB/s eta 0:00:01\n",
      "     ------------------------- ------------ 41.0/60.8 kB 326.8 kB/s eta 0:00:01\n",
      "     -------------------------------------- 60.8/60.8 kB 404.2 kB/s eta 0:00:00\n",
      "Collecting joblib>=1.2.0 (from scikit-learn)\n",
      "  Downloading joblib-1.4.2-py3-none-any.whl.metadata (5.4 kB)\n",
      "Collecting threadpoolctl>=3.1.0 (from scikit-learn)\n",
      "  Downloading threadpoolctl-3.5.0-py3-none-any.whl.metadata (13 kB)\n",
      "Downloading scikit_learn-1.5.1-cp312-cp312-win_amd64.whl (10.9 MB)\n",
      "   ---------------------------------------- 0.0/10.9 MB ? eta -:--:--\n",
      "   --------- ------------------------------ 2.7/10.9 MB 85.6 MB/s eta 0:00:01\n",
      "   -------------------- ------------------- 5.6/10.9 MB 71.3 MB/s eta 0:00:01\n",
      "   ---------------------------- ----------- 7.7/10.9 MB 70.4 MB/s eta 0:00:01\n",
      "   --------------------------------- ------ 9.2/10.9 MB 59.0 MB/s eta 0:00:01\n",
      "   -------------------------------------- - 10.5/10.9 MB 54.4 MB/s eta 0:00:01\n",
      "   ---------------------------------------  10.9/10.9 MB 54.7 MB/s eta 0:00:01\n",
      "   ---------------------------------------  10.9/10.9 MB 54.7 MB/s eta 0:00:01\n",
      "   ---------------------------------------- 10.9/10.9 MB 38.6 MB/s eta 0:00:00\n",
      "Downloading joblib-1.4.2-py3-none-any.whl (301 kB)\n",
      "   ---------------------------------------- 0.0/301.8 kB ? eta -:--:--\n",
      "   ---------------------------------------- 301.8/301.8 kB 9.4 MB/s eta 0:00:00\n",
      "Downloading scipy-1.14.0-cp312-cp312-win_amd64.whl (44.5 MB)\n",
      "   ---------------------------------------- 0.0/44.5 MB ? eta -:--:--\n",
      "   - -------------------------------------- 1.6/44.5 MB 50.2 MB/s eta 0:00:01\n",
      "   -- ------------------------------------- 2.8/44.5 MB 44.5 MB/s eta 0:00:01\n",
      "   --- ------------------------------------ 4.2/44.5 MB 38.3 MB/s eta 0:00:02\n",
      "   ----- ---------------------------------- 5.9/44.5 MB 37.7 MB/s eta 0:00:02\n",
      "   ------ --------------------------------- 7.3/44.5 MB 36.1 MB/s eta 0:00:02\n",
      "   -------- ------------------------------- 9.2/44.5 MB 36.7 MB/s eta 0:00:01\n",
      "   --------- ------------------------------ 10.6/44.5 MB 36.4 MB/s eta 0:00:01\n",
      "   ---------- ----------------------------- 12.0/44.5 MB 34.4 MB/s eta 0:00:01\n",
      "   ----------- ---------------------------- 13.3/44.5 MB 34.4 MB/s eta 0:00:01\n",
      "   ------------- -------------------------- 14.7/44.5 MB 36.4 MB/s eta 0:00:01\n",
      "   -------------- ------------------------- 15.8/44.5 MB 36.3 MB/s eta 0:00:01\n",
      "   ---------------- ----------------------- 18.6/44.5 MB 34.4 MB/s eta 0:00:01\n",
      "   ------------------ --------------------- 20.1/44.5 MB 34.4 MB/s eta 0:00:01\n",
      "   ------------------- -------------------- 21.5/44.5 MB 36.4 MB/s eta 0:00:01\n",
      "   -------------------- ------------------- 22.8/44.5 MB 34.4 MB/s eta 0:00:01\n",
      "   --------------------- ------------------ 24.3/44.5 MB 34.4 MB/s eta 0:00:01\n",
      "   ----------------------- ---------------- 25.6/44.5 MB 34.4 MB/s eta 0:00:01\n",
      "   ------------------------ --------------- 27.0/44.5 MB 34.4 MB/s eta 0:00:01\n",
      "   ------------------------- -------------- 28.4/44.5 MB 36.4 MB/s eta 0:00:01\n",
      "   -------------------------- ------------- 29.8/44.5 MB 34.4 MB/s eta 0:00:01\n",
      "   --------------------------- ------------ 31.1/44.5 MB 34.4 MB/s eta 0:00:01\n",
      "   ---------------------------- ----------- 32.2/44.5 MB 34.4 MB/s eta 0:00:01\n",
      "   ------------------------------- -------- 34.5/44.5 MB 32.8 MB/s eta 0:00:01\n",
      "   -------------------------------- ------- 36.1/44.5 MB 34.4 MB/s eta 0:00:01\n",
      "   --------------------------------- ------ 37.4/44.5 MB 32.8 MB/s eta 0:00:01\n",
      "   ----------------------------------- ---- 39.0/44.5 MB 34.6 MB/s eta 0:00:01\n",
      "   ------------------------------------ --- 40.6/44.5 MB 34.4 MB/s eta 0:00:01\n",
      "   ------------------------------------- -- 41.9/44.5 MB 34.4 MB/s eta 0:00:01\n",
      "   ---------------------------------------  43.4/44.5 MB 36.4 MB/s eta 0:00:01\n",
      "   ---------------------------------------  44.5/44.5 MB 36.3 MB/s eta 0:00:01\n",
      "   ---------------------------------------  44.5/44.5 MB 36.3 MB/s eta 0:00:01\n",
      "   ---------------------------------------  44.5/44.5 MB 36.3 MB/s eta 0:00:01\n",
      "   ---------------------------------------  44.5/44.5 MB 36.3 MB/s eta 0:00:01\n",
      "   ---------------------------------------  44.5/44.5 MB 36.3 MB/s eta 0:00:01\n",
      "   ---------------------------------------  44.5/44.5 MB 36.3 MB/s eta 0:00:01\n",
      "   ---------------------------------------  44.5/44.5 MB 36.3 MB/s eta 0:00:01\n",
      "   ---------------------------------------  44.5/44.5 MB 36.3 MB/s eta 0:00:01\n",
      "   ---------------------------------------  44.5/44.5 MB 36.3 MB/s eta 0:00:01\n",
      "   ---------------------------------------  44.5/44.5 MB 36.3 MB/s eta 0:00:01\n",
      "   ---------------------------------------  44.5/44.5 MB 36.3 MB/s eta 0:00:01\n",
      "   ---------------------------------------  44.5/44.5 MB 36.3 MB/s eta 0:00:01\n",
      "   ---------------------------------------- 44.5/44.5 MB 13.9 MB/s eta 0:00:00\n",
      "Downloading threadpoolctl-3.5.0-py3-none-any.whl (18 kB)\n",
      "Installing collected packages: threadpoolctl, scipy, joblib, scikit-learn\n",
      "Successfully installed joblib-1.4.2 scikit-learn-1.5.1 scipy-1.14.0 threadpoolctl-3.5.0\n",
      "Note: you may need to restart the kernel to use updated packages.\n"
     ]
    },
    {
     "name": "stderr",
     "output_type": "stream",
     "text": [
      "\n",
      "[notice] A new release of pip is available: 24.0 -> 24.1.2\n",
      "[notice] To update, run: python.exe -m pip install --upgrade pip\n"
     ]
    }
   ],
   "source": [
    "pip install scikit-learn"
   ]
  },
  {
   "cell_type": "code",
   "execution_count": 2,
   "metadata": {},
   "outputs": [
    {
     "name": "stdout",
     "output_type": "stream",
     "text": [
      "ShuffleSplit:\n",
      "X_train shape: (80000, 5)\n",
      "X_test shape: (20000, 5)\n",
      "y_train shape: (80000,)\n",
      "y_test shape: (20000,)\n"
     ]
    }
   ],
   "source": [
    "import pandas as pd\n",
    "from sklearn.model_selection import ShuffleSplit\n",
    "\n",
    "# Load the dataset\n",
    "data = pd.read_csv('customers.csv')\n",
    "\n",
    "# Define the features and target variable\n",
    "X = data.drop(columns=['Frequent_Losers'])  # Features\n",
    "y = data['Frequent_Losers']  # Target variable\n",
    "\n",
    "# Initialize ShuffleSplit\n",
    "shuffle_split = ShuffleSplit(n_splits=1, test_size=0.2, random_state=42)\n",
    "\n",
    "# Split the data\n",
    "for train_index, test_index in shuffle_split.split(X):\n",
    "    X_train, X_test = X.iloc[train_index], X.iloc[test_index]\n",
    "    y_train, y_test = y.iloc[train_index], y.iloc[test_index]\n",
    "\n",
    "# Print the shapes of train and test sets\n",
    "print(\"ShuffleSplit:\")\n",
    "print(\"X_train shape:\", X_train.shape)\n",
    "print(\"X_test shape:\", X_test.shape)\n",
    "print(\"y_train shape:\", y_train.shape)\n",
    "print(\"y_test shape:\", y_test.shape)"
   ]
  },
  {
   "cell_type": "code",
   "execution_count": 3,
   "metadata": {},
   "outputs": [
    {
     "name": "stdout",
     "output_type": "stream",
     "text": [
      "train_test_split:\n",
      "X_train shape: (80000, 5)\n",
      "X_test shape: (20000, 5)\n",
      "y_train shape: (80000,)\n",
      "y_test shape: (20000,)\n"
     ]
    }
   ],
   "source": [
    "from sklearn.model_selection import train_test_split\n",
    "\n",
    "# Load the dataset\n",
    "data = pd.read_csv('customers.csv')\n",
    "\n",
    "# Define the features and target variable\n",
    "X = data.drop(columns=['Frequent_Losers'])  # Features\n",
    "y = data['Frequent_Losers']  # Target variable\n",
    "\n",
    "# Split the data using train_test_split\n",
    "X_train, X_test, y_train, y_test = train_test_split(X, y, test_size=0.2, random_state=42)\n",
    "\n",
    "# Print the shapes of train and test sets\n",
    "print(\"train_test_split:\")\n",
    "print(\"X_train shape:\", X_train.shape)\n",
    "print(\"X_test shape:\", X_test.shape)\n",
    "print(\"y_train shape:\", y_train.shape)\n",
    "print(\"y_test shape:\", y_test.shape)"
   ]
  }
 ],
 "metadata": {
  "kernelspec": {
   "display_name": "Python 3",
   "language": "python",
   "name": "python3"
  },
  "language_info": {
   "codemirror_mode": {
    "name": "ipython",
    "version": 3
   },
   "file_extension": ".py",
   "mimetype": "text/x-python",
   "name": "python",
   "nbconvert_exporter": "python",
   "pygments_lexer": "ipython3",
   "version": "3.12.3"
  }
 },
 "nbformat": 4,
 "nbformat_minor": 2
}
